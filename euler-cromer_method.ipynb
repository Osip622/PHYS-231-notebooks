{
 "cells": [
  {
   "cell_type": "markdown",
   "metadata": {},
   "source": [
    "# Problems using updating python methods"
   ]
  },
  {
   "cell_type": "markdown",
   "metadata": {},
   "source": [
    "PROBLEM 1)))\n",
    "Ball on vibrating surface. A ball is falling vertically through air over a vibrating surface. The position of the surface is   $x_w(t)=A\\cosωt$ , where   A=1cm  and   ω  is called the angular frequency of the vibrations. The ball starts from a position   $x=10$cm  at   $t=0$s . The acceleration of the ball is given as:"
   ]
  },
  {
   "cell_type": "markdown",
   "metadata": {},
   "source": [
    "$a(x,v,t)=   \\left\\{\n",
    "\\begin{array}{ll}\n",
    "      -g & x> x_w \\\\\n",
    "      -g-C(x-x_w) & x\\leq x_w \\\\\n",
    "\\end{array} \n",
    "\\right. $"
   ]
  },
  {
   "cell_type": "markdown",
   "metadata": {},
   "source": [
    "where   $g=9.81$m/s^2  and   $C=10000.0$s^−2 ."
   ]
  },
  {
   "cell_type": "markdown",
   "metadata": {},
   "source": [
    "Write down the equation you need to solve to find the motion of the ball. Include initial conditions for the ball."
   ]
  },
  {
   "cell_type": "markdown",
   "metadata": {},
   "source": [
    "Answer:\n",
    "Calculate the derivative x(t):\n",
    "$\\frac{dv}{dt}=-g$ for x less than xw and  $\\frac{dv}{dt}=-g-C(x-xw)$ for x(0)=0.1m and v(0)=0."
   ]
  },
  {
   "cell_type": "markdown",
   "metadata": {},
   "source": [
    "Write down the algorithm to find the position and velocity at   $t_i+1=t_i+Δt$  given the position and velocity at   ti . Use Euler-Cromer’s scheme."
   ]
  },
  {
   "cell_type": "markdown",
   "metadata": {},
   "source": [
    "#the equations are as follows\n",
    "v(i+dt)=vi+a*dt\n",
    "x(i+dt)=xi+v*dt\n",
    "\n",
    "\n"
   ]
  },
  {
   "cell_type": "markdown",
   "metadata": {},
   "source": [
    "Write a program to find the position and velocity of the ball as a function of time."
   ]
  },
  {
   "cell_type": "code",
   "execution_count": 9,
   "metadata": {},
   "outputs": [],
   "source": [
    "import numpy as np"
   ]
  },
  {
   "cell_type": "code",
   "execution_count": null,
   "metadata": {},
   "outputs": [],
   "source": [
    "#answer::::::\n",
    "#Define constants here:\n",
    "g=9.81\n",
    "A=0.01\n",
    "C=10000\n",
    "xi=0.1#input initial position here\n",
    "vi=0#input initial velocity here\n",
    "tot_t=0.5 #input total time needed here\n",
    "dt=0.00001\n",
    "n=np.ceil(time/dt)#creating arrays for x,v,t, and a\n",
    "x=np.zeros(n,float)\n",
    "v=np.zeros(n,float)\n",
    "a=np.zeros(n,float)\n",
    "t=np.zeros(n,float)\n",
    "x[0]=xi#intializing arrays\n",
    "v[0]=vi\n",
    "xom=A*np.cos(om*t)\n",
    "\n",
    "for i in range(n-1):\n",
    "    if xom>x:\n",
    "        a[i]=-g\n",
    "        v[i+1]=vi+a[i]*dt\n",
    "        x[i+1]=xi+v[i]*dt\n",
    "    else:\n",
    "        a[i]=-g-C(x-xw)\n",
    "        v[i+1]=vi+a[i]*dt\n",
    "        x[i+1]=xi+v[i]*dt"
   ]
  },
  {
   "cell_type": "markdown",
   "metadata": {},
   "source": [
    "Check your program by first studing the behavior when the vibrating surface is stationary, that is, when   $A=0$m  and   $x_w=0$m . Plot the resulting behavior. Ensure that your timestep is small enough,   $\\Delta t=10^{−5}$s . What happens if you increase the timestep to   $\\Delta t=0.02$s ?"
   ]
  },
  {
   "cell_type": "code",
   "execution_count": null,
   "metadata": {},
   "outputs": [],
   "source": [
    "#set A to 0 and make sure the results make sense, it should be frefall acceleration"
   ]
  },
  {
   "cell_type": "markdown",
   "metadata": {},
   "source": [
    "Finally, use your program to model the motion of the ball when the surface is vibrating. Use   A=0.01m ,   ω=10s^−1 , and simulate 5 s of motion. Plot the results. What is happening?"
   ]
  },
  {
   "cell_type": "code",
   "execution_count": null,
   "metadata": {},
   "outputs": [],
   "source": [
    "#set value for omega to what is listed and A to what is listed and repeat the process"
   ]
  },
  {
   "cell_type": "markdown",
   "metadata": {},
   "source": [
    "What happens if you increase the vibrational frequency to   $ω=30s^{−1}$ ?. Plot the results. Can you explain the difference from   $ω=10s^{−1}$ ?"
   ]
  },
  {
   "cell_type": "code",
   "execution_count": null,
   "metadata": {},
   "outputs": [],
   "source": []
  },
  {
   "cell_type": "markdown",
   "metadata": {},
   "source": [
    "# Now do it yourself!"
   ]
  },
  {
   "cell_type": "markdown",
   "metadata": {},
   "source": [
    "In this example you learn to find the position and velocity from the acceleration, when the acceleration is given by a simplified mathematical model, and when it is given by a differential equation.\n",
    "\n",
    "You are planning to reproduce the introductory film in Forrest Gump—by capturing the motion of a feather caught in the wind. You plan to start with a feather dropped from a lift, at a height h above the ground. A slight wind is blowing. Our task is to find the motion of the feather, given its acceleration."
   ]
  },
  {
   "cell_type": "markdown",
   "metadata": {},
   "source": [
    "We have learned many times about free fall acelleration. You will be following a similar process but with slightly more complicated equations due to drag and the wind which is blowing as the feather falls. Let acceleration be given by"
   ]
  },
  {
   "cell_type": "markdown",
   "metadata": {},
   "source": [
    "$\\textbf{a}=-g\\textbf{j}-C|\\textbf{v}-\\textbf{w}|(\\textbf{v}-\\textbf{w})$\n"
   ]
  },
  {
   "cell_type": "markdown",
   "metadata": {},
   "source": [
    "where $C=30.0$m^-1 for the given feather and $\\textbf{w}$ is the wind speed given by"
   ]
  },
  {
   "cell_type": "markdown",
   "metadata": {},
   "source": [
    "$\\textbf{w(r)}=w_0e^{-y/b}$"
   ]
  },
  {
   "cell_type": "markdown",
   "metadata": {},
   "source": [
    "In this case,   $b=5$m  and   $w_0=3$m/s  is the velocity of the wind. We drop the feather from rest from a position   $r_0=h\\textbf{j}$ , with   $h=10$m."
   ]
  },
  {
   "cell_type": "markdown",
   "metadata": {},
   "source": [
    "Use the texniques from the previous exercise (the Euler-Cromer method) and your knowledge of kinematics to make a plot of the 2D position of the feather. Make sure to find an apporpriate t value for the entire process which will fit all of your valuable points, make dt necessarily small for an accurate yet efficient program. For your graph, plot only the values of the feather while it has not yet hit the ground. Compare your plot with the plot below of the fether falling in free fall. What do you notice? Comment on your result."
   ]
  },
  {
   "cell_type": "code",
   "execution_count": 42,
   "metadata": {},
   "outputs": [
    {
     "name": "stdout",
     "output_type": "stream",
     "text": [
      "[[ 0.00000000e+00  1.00000000e+01]\n",
      " [ 2.01864170e-04  9.99999020e+00]\n",
      " [ 5.75398241e-04  9.99997130e+00]\n",
      " ...\n",
      " [ 2.89453794e+01 -1.39518348e+00]\n",
      " [ 2.89444396e+01 -1.39575473e+00]\n",
      " [ 2.89434993e+01 -1.39632597e+00]]\n"
     ]
    }
   ],
   "source": [
    "#Answer here\n",
    "from pylab import *\n",
    "np.seterr(divide='ignore', invalid='ignore')\n",
    "h=10\n",
    "C=30\n",
    "b=5.0\n",
    "w0=3.0\n",
    "g=9.8\n",
    "\n",
    "\n",
    "time=20.0\n",
    "dt=0.001\n",
    "\n",
    "n=int(np.ceil(time/dt))#creating arrays for x,v,t, and a\n",
    "t=np.zeros((n,1),float)\n",
    "r=np.zeros((n,2),float)\n",
    "v=np.zeros((n,2),float)\n",
    "a=np.zeros((n,2),float)\n",
    "t[0]=0.0\n",
    "r[0,:]=array([0.0,h]) #intializing arrays\n",
    "v[1,:]=array([0.0,0.0])\n",
    "\n",
    "for i in range(n-1):\n",
    "    w=w0*(1.0-exp(-r[i,1]/b))*array([1,0])\n",
    "    a[i,:]=-g*array([0,1])-C*norm(v[i,:]-w)*(v[i,:]-w)\n",
    "    v[i+1,:]=v[i,:]+a[i,:]*dt\n",
    "    r[i+1,:]=r[i,:]+v[i+1,:]*dt\n",
    "    t[i+1]=t[i]+dt\n",
    "    \n",
    "print(r)"
   ]
  },
  {
   "cell_type": "code",
   "execution_count": 43,
   "metadata": {},
   "outputs": [
    {
     "data": {
      "text/plain": [
       "Text(0, 0.5, 'y[m]')"
      ]
     },
     "execution_count": 43,
     "metadata": {},
     "output_type": "execute_result"
    },
    {
     "data": {
      "image/png": "[encoded data removed]",
      "text/plain": [
       "<Figure size 432x288 with 1 Axes>"
      ]
     },
     "metadata": {
      "needs_background": "light"
     },
     "output_type": "display_data"
    }
   ],
   "source": [
    "i=r[:,1]>0\n",
    "plot(r[i,0],r[i,1],'-k')\n",
    "\n",
    "axis('equal')\n",
    "xlabel('x[m]')\n",
    "ylabel('y[m]')"
   ]
  },
  {
   "cell_type": "markdown",
   "metadata": {},
   "source": [
    "Here is a plot of a free falling feather using the unrealistic model. Compare your result. Notice, the Euler Cromer method is not used here!"
   ]
  },
  {
   "cell_type": "code",
   "execution_count": 44,
   "metadata": {},
   "outputs": [
    {
     "data": {
      "text/plain": [
       "Text(0, 0.5, 'position(m)')"
      ]
     },
     "execution_count": 44,
     "metadata": {},
     "output_type": "execute_result"
    },
    {
     "data": {
      "image/png": "[encoded data removed]",
      "text/plain": [
       "<Figure size 432x288 with 1 Axes>"
      ]
     },
     "metadata": {
      "needs_background": "light"
     },
     "output_type": "display_data"
    }
   ],
   "source": [
    "g=9.8 #m/s^2\n",
    "t=arange(0,1.429,0.001) #seconds\n",
    "y=10-0.5*g*np.array(t)**2 #meters\n",
    "data=np.transpose([t,y])\n",
    "x = data[:,0]\n",
    "y = data[:,1]\n",
    "plt.plot(x,y)\n",
    "plt.title('Position vs time')\n",
    "plt.xlabel('time(s)')\n",
    "plt.ylabel('position(m)')"
   ]
  },
  {
   "cell_type": "markdown",
   "metadata": {},
   "source": [
    "Now write an analysis of your plot below. How could you make this more complicated?"
   ]
  }
 ],
 "metadata": {
  "kernelspec": {
   "display_name": "Python 3",
   "language": "python",
   "name": "python3"
  },
  "language_info": {
   "codemirror_mode": {
    "name": "ipython",
    "version": 3
   },
   "file_extension": ".py",
   "mimetype": "text/x-python",
   "name": "python",
   "nbconvert_exporter": "python",
   "pygments_lexer": "ipython3",
   "version": "3.8.3"
  }
 },
 "nbformat": 4,
 "nbformat_minor": 4
}
